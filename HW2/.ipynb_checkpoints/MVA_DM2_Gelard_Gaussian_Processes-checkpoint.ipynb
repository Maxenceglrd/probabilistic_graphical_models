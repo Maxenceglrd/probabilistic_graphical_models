{
 "cells": [
  {
   "cell_type": "markdown",
   "id": "1df3754d",
   "metadata": {},
   "source": [
    "# Introduction to (deep) Probabilistic Graphical Models - Homework 2\n",
    "\n",
    "# Gaussian Processes\n",
    "\n",
    "Maxence Gélard\n",
    "\n",
    "Contact: maxence.gelard@student-cs.fr "
   ]
  },
  {
   "cell_type": "code",
   "execution_count": 272,
   "id": "1aef8aca",
   "metadata": {},
   "outputs": [],
   "source": [
    "from typing import List\n",
    "\n",
    "import matplotlib.pyplot as plt\n",
    "import numpy as np\n",
    "import pandas as pd\n",
    "import seaborn as sns\n",
    "from scipy.optimize import minimize\n",
    "from sklearn.model_selection import train_test_split\n",
    "from sklearn.gaussian_process import GaussianProcessRegressor\n",
    "from sklearn.gaussian_process.kernels import ConstantKernel, RBF, DotProduct\n",
    "\n",
    "np.random.seed(8)"
   ]
  },
  {
   "cell_type": "markdown",
   "id": "84a6950d",
   "metadata": {},
   "source": [
    "### Utils"
   ]
  },
  {
   "cell_type": "code",
   "execution_count": 237,
   "id": "000457ab",
   "metadata": {},
   "outputs": [],
   "source": [
    "def RMSE(y_pred, y_true):\n",
    "    return np.mean((y_pred - y_true)**2)\n",
    "\n",
    "def R2(y_pred, y_true):\n",
    "    u = np.sum((y_true - y_pred)** 2)\n",
    "    v = np.sum((y_true - np.mean(y_true)) ** 2)\n",
    "    r_square = 1 - u / v\n",
    "    return r_square"
   ]
  },
  {
   "cell_type": "markdown",
   "id": "1e02cc52",
   "metadata": {},
   "source": [
    "We aim at implementating a Gaussian process (GP) model for regression.\n",
    "We denote by $Y$ the set of all (n) outputs (in $\\mathbb{R}$) and $X$ the features matrix of size $n × p$. Therefore, the model gives:\n",
    "\n",
    "$Y\\vert X \\sim \\mathcal{N}(0_n, C)$, where the elements of the covariance matrix C are given by  $C_{ij} = k(x_i, x_j) + \\sigma^2 \\delta_{ij}$, with $k$ which is defined as: $k(x_i, x_j) = \\theta_0 \\exp\\left\\{-\\dfrac{\\theta_1}{2}\\lVert x_i - x_j \\rVert^2 \\right\\} + \\theta_2 + \\theta_3 x_i^T x_j$.\n",
    "\n"
   ]
  },
  {
   "cell_type": "markdown",
   "id": "9c4e113a",
   "metadata": {},
   "source": [
    "# I. Learning"
   ]
  },
  {
   "cell_type": "markdown",
   "id": "879f63c3",
   "metadata": {},
   "source": [
    "The first step in training a Gaussian Process is to optimize the (marginal) log-likelihood $h(\\theta) = \\log p(Y \\vert X, \\theta)$ with respect to the parameters $\\theta = (\\theta_0, \\theta_1, \\theta_2, \\theta_3, \\sigma^{2})$.\n",
    "We have: $ h(\\theta) = -\\dfrac{1}{2} \\log \\lvert C \\rvert - \\dfrac{1}{2} Y^T C^{-1}Y + \\alpha$, where $\\alpha$ is a constant independent of $\\theta$.\n",
    "\n",
    "For this implementation, we are going to optimize the log-likelihood by using a gradient descent (the loss will thus be $-h(\\theta)$).\n",
    "\n",
    "Using the chain rule, we can derive the gradient of the loss with respect to each parameters. Let's note \n",
    "$A = Y^T C^{-1}\\exp\\left(-\\dfrac{\\theta_1}{2}P\\right)C^{-1}Y$, with $P$ being the matrix of pariwise square euclidian distances between features vecteurs (i.e the matrix of $||x_i - x_j||^2$). Let's also note $H$ the square matrix full of one, whose dimension is the number of rows in $X$. We thus have:\n",
    "\n",
    "\n",
    "$\\dfrac{\\partial h(\\theta)}{\\partial \\theta_0} = Tr\\left(C^{-1}\\exp\\left(-\\dfrac{\\theta_1}{2}P\\right)\\right) + A$\n",
    "\n",
    "$\\dfrac{\\partial h(\\theta)}{\\partial \\theta_1} = Tr\\left(C^{-1}\\left(-\\dfrac{\\theta_0}{2}P \\times \\exp\\left(-\\dfrac{\\theta_1}{2}P\\right)\\right)\\right) + A$ ($\\times$ is the Hadamard product)\n",
    "\n",
    "$\\dfrac{\\partial h(\\theta)}{\\partial \\theta_2} = Tr(C^{-1}H) + Y^T C^{-1} H C^{-1} Y$\n",
    "\n",
    "$\\dfrac{\\partial h(\\theta)}{\\partial \\theta_3} = Tr\\left(C^{-1}XX^T\\right) + Y^T C^{-1}XX^T C^{-1}$\n",
    "\n",
    "$\\dfrac{\\partial h(\\theta)}{\\partial \\sigma^2} = Tr(C^{-1}) + (Y^T C^{-1})(C^{-1} Y)$\n",
    "\n",
    "For a given parameters $\\theta_i$, a gradient descent stepwrites:\n",
    "\n",
    "$$\\theta_i = \\theta_i - lr * \\dfrac{\\partial L(\\theta)}{\\partial \\theta_i}$$\n",
    "\n",
    "Where $lr$ is the learning rate and $L = -h$."
   ]
  },
  {
   "cell_type": "markdown",
   "id": "d0fdd226",
   "metadata": {},
   "source": [
    "# II. Prediction\n",
    "\n",
    "Now that the model's parameters are fitted, given a set of test points, we aim at providing a prediction for each point. Let's assume for simplicity that we want to predict a single new point (in the implementation, that will be extended to the case of any number of new data points), let's call it $x_{n+1}$.\n",
    "\n",
    "By noting $K = =(k(x_i, x_{n+1}))$ for $i \\in \\{1, ..., n\\}$ (this vector will be built by a function that I will call `build_asymetric_covariance_matrix`) and $c = k(x_{n+1}, x_{n+1}) + \\sigma^{2}$, we thus have, by noting $y_{n+1}$ the prediction, we have:\n",
    "\n",
    "$y_{n+1}\\vert Y, X, \\theta \\sim \\mathcal{N}(K^{T}CY, c - K^TCK)$.\n",
    "In order to have a pointwise prediction, we will use the mean of this distribution.\n",
    "\n",
    "### Implementation\n",
    "\n",
    "Below are given:\n",
    "\n",
    "- `QuadraticExponentialKernel`: the class that implements to defined kernel\n",
    "- `GaussianProcess`: the class that implement the Gaussian Process model. It has 2 fitting method. The first one is `fit_manual` and uses the derivation of the gradient to perform the gradient descent, the second one is called `fit`and uses scipy to optimize the log-likelihood. I have done it in order to compare my result with the one from scipy."
   ]
  },
  {
   "cell_type": "code",
   "execution_count": 238,
   "id": "488abb91",
   "metadata": {},
   "outputs": [],
   "source": [
    "def compute_pairwise_distance(X_1: np.ndarray, X_2: np.ndarray = None) -> np.ndarray:\n",
    "    if X_2 is None:\n",
    "        X_2 = np.copy(X_1)\n",
    "    n = X_1.shape[0]\n",
    "    m = X_2.shape[0]\n",
    "    return np.array([\n",
    "        [np.linalg.norm(X_1[i, :] - X_2[j, :]) ** 2 for j in range(m)]\n",
    "        for i in range(n)]\n",
    "    )   \n",
    "    \n",
    "class QuadraticExponentialKernel:\n",
    "    def __init__(self, parameters: List[float]):\n",
    "        self.parameters = parameters\n",
    "    \n",
    "    def build_covariance_matrix(self, X):\n",
    "        sym_X = X @ X.T\n",
    "        pairwise_distances = compute_pairwise_distance(X)\n",
    "        thetas = self.parameters[:-1]\n",
    "        sigma = self.parameters[-1]\n",
    "        \n",
    "        exp_kernel = thetas[0] * np.exp(- 0.5 * thetas[1] * pairwise_distances)\n",
    "        quadratic_kernel = thetas[2] * thetas[3] * sym_X\n",
    "        return exp_kernel + quadratic_kernel + (sigma**2) * np.eye(X.shape[0])\n",
    "    \n",
    "    def build_asymetric_covariance_matrix(self, X_1: np.ndarray, X_2: np.ndarray) -> np.ndarray:\n",
    "        sym_X = X_1 @ X_2.T\n",
    "        pairwise_distances = compute_pairwise_distance(X_1, X_2)\n",
    "        thetas = self.parameters[:-1]\n",
    "        sigma = self.parameters[-1]\n",
    "        \n",
    "        exp_kernel = thetas[0] * np.exp(- 0.5 * thetas[1] * pairwise_distances)\n",
    "        quadratic_kernel = thetas[2] * thetas[3] * sym_X\n",
    "        return exp_kernel + quadratic_kernel"
   ]
  },
  {
   "cell_type": "code",
   "execution_count": 239,
   "id": "fea92df2",
   "metadata": {},
   "outputs": [
    {
     "data": {
      "text/plain": [
       "Text(0.5, 1.0, 'Training data')"
      ]
     },
     "execution_count": 239,
     "metadata": {},
     "output_type": "execute_result"
    },
    {
     "data": {
      "image/png": "[encoded data removed]",
      "text/plain": [
       "<Figure size 432x288 with 1 Axes>"
      ]
     },
     "metadata": {
      "needs_background": "light"
     },
     "output_type": "display_data"
    }
   ],
   "source": [
    "n = 50\n",
    "p = 1\n",
    "sigma = 0.04\n",
    "\n",
    "X = np.linspace(-3, 3, n).reshape(n, p)\n",
    "y = np.sin(X) + np.random.normal(loc=0, scale=sigma, size=(len(X), 1))\n",
    "\n",
    "X_train, X_test, y_train, y_test = train_test_split(X, y, test_size=0.25)\n",
    "plt.scatter(X_train, y_train)\n",
    "plt.title(\"Training data\")"
   ]
  },
  {
   "cell_type": "code",
   "execution_count": 240,
   "id": "00770edd",
   "metadata": {},
   "outputs": [],
   "source": [
    "class GaussianProcess:\n",
    "    def __init__(self, kernel: QuadraticExponentialKernel):\n",
    "        self.kernel = kernel\n",
    "        \n",
    "    def fit(self, X: np.ndarray, y: np.ndarray) -> None:\n",
    "        self.X = X\n",
    "        self.y = y\n",
    "        neg_ll = self.negative_loglikelihood(X, y)\n",
    "        optimal_params = minimize(\n",
    "            self.negative_loglikelihood(X, y),\n",
    "            self.kernel.parameters,\n",
    "            #bounds=((1e-6, None), (1e-6, None), (1e-6, None), (1e-6, None), (1e-6, None)),\n",
    "            bounds=((-1e-1, 1e-1), (-1e-1, 1e-1), (-1e-1, 1e-1), (-1e-1, 1e-1), (-1e-1, 1e-1)),\n",
    "            method='L-BFGS-B'\n",
    "        ).x\n",
    "        self.kernel.parameters = optimal_params\n",
    "        self.train_covariance = self.kernel.build_covariance_matrix(X)\n",
    "        \n",
    "    def fit_manual(self, X: np.ndarray, y: np.ndarray, n_iters: int = 50, lr: float = 1e-4, eps = 1e-4) -> None:\n",
    "        n = X.shape[0]\n",
    "        H = np.ones((n, n))\n",
    "        pairwise_distances = compute_pairwise_distance(X)\n",
    "        self.X = X\n",
    "        self.y = y\n",
    "        \n",
    "        theta_0, theta_1, theta_2, theta_3 = self.kernel.parameters[:-1]\n",
    "        sigma = self.kernel.parameters[-1]\n",
    "        \n",
    "        C = self.kernel.build_covariance_matrix(X)\n",
    "        inv_C = np.linalg.pinv(C)\n",
    "        \n",
    "        current_iter = 0\n",
    "        converged = False\n",
    "        \n",
    "        while not converged and current_iter < n_iters:\n",
    "            old_parameters = np.copy(np.array([theta_0, theta_1, theta_2, theta_3, sigma]))\n",
    "            temp = y.T @ inv_C @ np.exp(- (theta_1 / 2) * pairwise_distances) @ inv_C @ y\n",
    "            X_XT = X @ X.T\n",
    "            \n",
    "            grad_theta_0 = np.trace(inv_C @ np.exp(- (theta_1 / 2) * pairwise_distances)) + temp            \n",
    "            grad_theta_1 = np.trace(\n",
    "                inv_C @ (- (theta_0 / 2) * pairwise_distances *np.exp(- (theta_1 / 2) * pairwise_distances))\n",
    "            ) + temp\n",
    "            grad_theta_2 = np.trace(inv_C @ H) + y.T @ inv_C @ H @ inv_C @ y\n",
    "            grad_theta_3 = np.trace(inv_C @ X_XT) + y.T @ inv_C @ X_XT @ inv_C @ y\n",
    "            grad_sigma = np.trace(inv_C) + y.T @ inv_C @ inv_C @ y\n",
    "            \n",
    "            theta_0 -= lr * grad_theta_0\n",
    "            theta_1 -= lr * grad_theta_1\n",
    "            theta_2 -= lr * grad_theta_2\n",
    "            theta_3 -= lr * grad_theta_3\n",
    "            sigma = abs(sigma - lr * grad_sigma) # already considered as sigma ** 2, it seemed to avoid overflows\n",
    "            \n",
    "            parameters = np.array([theta_0, theta_1, theta_2, theta_3, sigma])\n",
    "            \n",
    "            if np.linalg.norm(old_parameters - parameters) < eps:\n",
    "                converged = True\n",
    "        \n",
    "            self.kernel.parameters = np.array([theta_0, theta_1, theta_2, theta_3, sigma])\n",
    "            self.kernel.parameters[-1] = sigma\n",
    "            \n",
    "            C = self.kernel.build_covariance_matrix(X)\n",
    "            inv_C = np.linalg.pinv(C)\n",
    "            \n",
    "            current_iter += 1\n",
    "            \n",
    "        self.train_covariance = self.kernel.build_covariance_matrix(X)\n",
    "        \n",
    "    def negative_loglikelihood(self, X, y):\n",
    "        def parametrized_neg_ll(params):\n",
    "            self.kernel.parameters = params\n",
    "            C = self.kernel.build_covariance_matrix(X)\n",
    "            n = y.shape[0]\n",
    "            return 0.5 * (n * np.log(2 * np.pi) + np.log(np.linalg.det(C)) + y.T @ np.linalg.pinv(C) @ y)\n",
    "        return parametrized_neg_ll\n",
    "    \n",
    "    def predict(self, X_test):\n",
    "        inv_train_cov = np.linalg.pinv(self.train_covariance)\n",
    "        C_asym = self.kernel.build_asymetric_covariance_matrix(self.X, X_test)\n",
    "        y_pred = C_asym.T @ inv_train_cov @ GP.y\n",
    "        error_sgima = self.kernel.parameters[-1] * (1 - np.diag(C_asym.T @ inv_train_cov @ C_asym))\n",
    "        return y_pred, error_sgima"
   ]
  },
  {
   "cell_type": "code",
   "execution_count": 241,
   "id": "9ceef4f5",
   "metadata": {},
   "outputs": [],
   "source": [
    "parameters = np.random.random(size=5)\n",
    "kernel_1 = QuadraticExponentialKernel(parameters)\n",
    "\n",
    "GP = GaussianProcess(kernel_1)\n",
    "GP.fit_manual(X_train, y_train.ravel())"
   ]
  },
  {
   "cell_type": "code",
   "execution_count": 247,
   "id": "269d5971",
   "metadata": {},
   "outputs": [],
   "source": [
    "parameters_2 = np.random.random(size=5)\n",
    "kernel_2 = QuadraticExponentialKernel(parameters_2)\n",
    "\n",
    "GP_with_scipy_optimizer = GaussianProcess(kernel_2)\n",
    "GP_with_scipy_optimizer.fit(X_train, y_train.ravel())"
   ]
  },
  {
   "cell_type": "code",
   "execution_count": 250,
   "id": "7c30562c",
   "metadata": {},
   "outputs": [],
   "source": [
    "def plot_test_results(model, X_test, y_test, plot_confidence = True):\n",
    "    X_test_ordered = np.sort(X_test.ravel()).reshape(-1, 1)\n",
    "    y_pred, error_sigma = model.predict(X_test_ordered)\n",
    "\n",
    "    plt.scatter(X_test, y_test, label=\"True label\")\n",
    "    plt.scatter(X_test_ordered, y_pred, label=\"prediction\", c=\"r\")\n",
    "    if plot_confidence:\n",
    "        y_pred_minus = list(np.array([y_pred[i] - error_sigma[i] for i in range(len(y_pred))]).flatten())\n",
    "        y_pred_plus = list(np.array([y_pred[i] + error_sigma[i] for i in range(len(y_pred))]).flatten())\n",
    "        plt.fill_between(\n",
    "            X_test_ordered.flatten(),\n",
    "            y_pred_minus,\n",
    "            y_pred_plus,\n",
    "            alpha=0.6,\n",
    "            label=\"confidence interval\"\n",
    "        )\n",
    "    plt.ylim(-1, 1)\n",
    "    plt.legend()"
   ]
  },
  {
   "cell_type": "code",
   "execution_count": 251,
   "id": "51164bf6",
   "metadata": {},
   "outputs": [
    {
     "data": {
      "text/plain": [
       "Text(0.5, 1.0, 'Result of GP with scipy optimizer')"
      ]
     },
     "execution_count": 251,
     "metadata": {},
     "output_type": "execute_result"
    },
    {
     "data": {
      "image/png": "[encoded data removed]",
      "text/plain": [
       "<Figure size 1152x432 with 2 Axes>"
      ]
     },
     "metadata": {
      "needs_background": "light"
     },
     "output_type": "display_data"
    }
   ],
   "source": [
    "fig, ax = plt.subplots(1, 2, figsize=(16, 6))\n",
    "\n",
    "plt.subplot(1, 2, 1)\n",
    "plot_test_results(GP, X_test, y_test)\n",
    "plt.title(\"Result of GP with manual fitting\")\n",
    "plt.subplot(1, 2, 2)\n",
    "plot_test_results(GP_with_scipy_optimizer, X_test, y_test)\n",
    "plt.title(\"Result of GP with scipy optimizer\")"
   ]
  },
  {
   "cell_type": "markdown",
   "id": "bc19852e",
   "metadata": {},
   "source": [
    "One can observe that the result of the training with a gaussian processing using scipy as an optimizer provides is more confident (sigma is smaller). This can be mainly due to the facct that in the manual fitting, a simple gradient descent has been used which may turn out not to be very stable (multiple runs of the same fitting can indeed lead to a variation of the result here)."
   ]
  },
  {
   "cell_type": "markdown",
   "id": "39f0e843",
   "metadata": {},
   "source": [
    "# III. Real data"
   ]
  },
  {
   "cell_type": "code",
   "execution_count": 349,
   "id": "a532cd0a",
   "metadata": {},
   "outputs": [
    {
     "data": {
      "text/html": [
       "<div>\n",
       "<style scoped>\n",
       "    .dataframe tbody tr th:only-of-type {\n",
       "        vertical-align: middle;\n",
       "    }\n",
       "\n",
       "    .dataframe tbody tr th {\n",
       "        vertical-align: top;\n",
       "    }\n",
       "\n",
       "    .dataframe thead th {\n",
       "        text-align: right;\n",
       "    }\n",
       "</style>\n",
       "<table border=\"1\" class=\"dataframe\">\n",
       "  <thead>\n",
       "    <tr style=\"text-align: right;\">\n",
       "      <th></th>\n",
       "      <th>Unnamed: 0</th>\n",
       "      <th>Murder</th>\n",
       "      <th>Assault</th>\n",
       "      <th>UrbanPop</th>\n",
       "    </tr>\n",
       "  </thead>\n",
       "  <tbody>\n",
       "    <tr>\n",
       "      <th>0</th>\n",
       "      <td>Alabama</td>\n",
       "      <td>13.2</td>\n",
       "      <td>236</td>\n",
       "      <td>58</td>\n",
       "    </tr>\n",
       "    <tr>\n",
       "      <th>1</th>\n",
       "      <td>Alaska</td>\n",
       "      <td>10.0</td>\n",
       "      <td>263</td>\n",
       "      <td>48</td>\n",
       "    </tr>\n",
       "    <tr>\n",
       "      <th>2</th>\n",
       "      <td>Arizona</td>\n",
       "      <td>8.1</td>\n",
       "      <td>294</td>\n",
       "      <td>80</td>\n",
       "    </tr>\n",
       "    <tr>\n",
       "      <th>3</th>\n",
       "      <td>Arkansas</td>\n",
       "      <td>8.8</td>\n",
       "      <td>190</td>\n",
       "      <td>50</td>\n",
       "    </tr>\n",
       "    <tr>\n",
       "      <th>4</th>\n",
       "      <td>California</td>\n",
       "      <td>9.0</td>\n",
       "      <td>276</td>\n",
       "      <td>91</td>\n",
       "    </tr>\n",
       "  </tbody>\n",
       "</table>\n",
       "</div>"
      ],
      "text/plain": [
       "   Unnamed: 0  Murder  Assault  UrbanPop\n",
       "0     Alabama    13.2      236        58\n",
       "1      Alaska    10.0      263        48\n",
       "2     Arizona     8.1      294        80\n",
       "3    Arkansas     8.8      190        50\n",
       "4  California     9.0      276        91"
      ]
     },
     "execution_count": 349,
     "metadata": {},
     "output_type": "execute_result"
    }
   ],
   "source": [
    "df = pd.read_csv(\"UScrimes.csv\")\n",
    "df.head()"
   ]
  },
  {
   "cell_type": "code",
   "execution_count": 350,
   "id": "a114b7d6",
   "metadata": {},
   "outputs": [],
   "source": [
    "mask = np.array([1] * (int(len(df) * 0.75) + 1) + [0] *  int(len(df) * 0.25))\n",
    "np.random.shuffle(mask)\n",
    "\n",
    "target = df[\"Murder\"].to_numpy()\n",
    "features = df[[\"Assault\", \"UrbanPop\"]].to_numpy()\n",
    "\n",
    "X_train, y_train = features[mask == 1], target[mask == 1]\n",
    "X_test, y_test = features[mask == 0], target[mask == 0]"
   ]
  },
  {
   "cell_type": "markdown",
   "id": "4548ef31",
   "metadata": {},
   "source": [
    "Let's look at a pair plots of the featurs and target to get an idea on the dataset we are using:"
   ]
  },
  {
   "cell_type": "code",
   "execution_count": 351,
   "id": "5a4ba910",
   "metadata": {},
   "outputs": [
    {
     "data": {
      "text/plain": [
       "Text(0.5, 1.0, 'Pair plot features / target')"
      ]
     },
     "execution_count": 351,
     "metadata": {},
     "output_type": "execute_result"
    },
    {
     "data": {
      "image/png": "[encoded data removed]",
      "text/plain": [
       "<Figure size 540x540 with 12 Axes>"
      ]
     },
     "metadata": {
      "needs_background": "light"
     },
     "output_type": "display_data"
    }
   ],
   "source": [
    "sns.pairplot(df)\n",
    "plt.title(\"Pair plot features / target\")"
   ]
  },
  {
   "cell_type": "markdown",
   "id": "ac216753",
   "metadata": {},
   "source": [
    "One can observe a strong linear correlation between Assault and Murder, but less correlation between UrbanPop and Murder. Let's define a linear regression model using the normal equation, that will gives us a baseline:"
   ]
  },
  {
   "cell_type": "code",
   "execution_count": 352,
   "id": "71007966",
   "metadata": {},
   "outputs": [],
   "source": [
    "beta = np.linalg.pinv(X_train.T @ X_train) @ X_train.T @ y_train\n",
    "y_pred_linear_regression = X_test @ beta\n",
    "\n",
    "R2_linear_regression = R2(y_pred_linear_regression, y_test)\n",
    "RMSE_linear_regression = RMSE(y_pred_linear_regression, y_test)"
   ]
  },
  {
   "cell_type": "code",
   "execution_count": 353,
   "id": "616daedb",
   "metadata": {},
   "outputs": [],
   "source": [
    "kernel_murder = QuadraticExponentialKernel(np.random.random(size=5))\n",
    "\n",
    "GP = GaussianProcess(kernel_murder)\n",
    "GP.fit_manual(X_train, y_train.ravel(), n_iters=100, lr=1e-5)\n",
    "y_pred_murder, sigma_error = GP.predict(X_test)"
   ]
  },
  {
   "cell_type": "code",
   "execution_count": 354,
   "id": "16c98532",
   "metadata": {},
   "outputs": [],
   "source": [
    "exp_quad_kernel_sklearn = ConstantKernel() * RBF() + ConstantKernel() + DotProduct()\n",
    "\n",
    "GP_sklearn = GaussianProcessRegressor(kernel=exp_quad_kernel_sklearn)\n",
    "GP_sklearn.fit(X_train, y_train)\n",
    "y_pred_murder_sklearn = GP_sklearn.predict(X_test)"
   ]
  },
  {
   "cell_type": "markdown",
   "id": "987c4f92",
   "metadata": {},
   "source": [
    "Below are given the covariance matrix of the training data"
   ]
  },
  {
   "cell_type": "code",
   "execution_count": 358,
   "id": "a6290c8c",
   "metadata": {},
   "outputs": [
    {
     "data": {
      "text/plain": [
       "Text(0.5, 1.0, 'Training covariance matrix - sklearn GP')"
      ]
     },
     "execution_count": 358,
     "metadata": {},
     "output_type": "execute_result"
    },
    {
     "data": {
      "image/png": "[encoded data removed]",
      "text/plain": [
       "<Figure size 1152x432 with 2 Axes>"
      ]
     },
     "metadata": {
      "needs_background": "light"
     },
     "output_type": "display_data"
    }
   ],
   "source": [
    "fig, ax = plt.subplots(1, 2, figsize=(16, 6))\n",
    "\n",
    "plt.subplot(1, 2, 1)\n",
    "plt.imshow(GP.train_covariance - GP.kernel.parameters[-1] * np.identity(X_train.shape[0]))\n",
    "plt.title(\"Training covariance matrix - from scratch GP\")\n",
    "plt.subplot(1, 2, 2)\n",
    "plt.imshow(exp_quad_kernel_sklearn(X_train))\n",
    "plt.title(\"Training covariance matrix - sklearn GP\")"
   ]
  },
  {
   "cell_type": "markdown",
   "id": "6ced4169",
   "metadata": {},
   "source": [
    "We notice that the two matrices are somehow similar (some blocks are visible), the main diffrence being the diagonal, which comes from the fact that in our implementation, the noise with parameter $\\sigma^2$ has been included in the kernel, while sklearn puts it away from it, that's why we substracted it for the plots."
   ]
  },
  {
   "cell_type": "code",
   "execution_count": 359,
   "id": "579b5e02",
   "metadata": {},
   "outputs": [
    {
     "name": "stdout",
     "output_type": "stream",
     "text": [
      "---- Linear Regression ----\n",
      "R2: 0.7411358901842361\n",
      "RMSE: 5.45599255455025\n",
      "---- GP from scratch implementation ----\n",
      "R2: 0.7433812015250882\n",
      "RMSE: 5.408668875856223\n",
      "---- GP from scratch implementation ----\n",
      "R2: 0.7659505422180009\n",
      "RMSE: 4.932982405185268\n"
     ]
    }
   ],
   "source": [
    "print(\"---- Linear Regression ----\")\n",
    "print(f\"R2: {R2_linear_regression}\")\n",
    "print(f\"RMSE: {RMSE_linear_regression}\")\n",
    "\n",
    "R2_gp = R2(y_pred_murder, y_test)\n",
    "RMSE_gp = RMSE(y_pred_murder, y_test)\n",
    "\n",
    "print(\"---- GP from scratch implementation ----\")\n",
    "print(f\"R2: {R2_gp}\")\n",
    "print(f\"RMSE: {RMSE_gp}\")\n",
    "\n",
    "R2_gp_sklearn = R2(y_pred_murder_sklearn, y_test)\n",
    "RMSE_gp_sklearn = RMSE(y_pred_murder_sklearn, y_test)\n",
    "\n",
    "print(\"---- GP from scratch implementation ----\")\n",
    "print(f\"R2: {R2_gp_sklearn}\")\n",
    "print(f\"RMSE: {RMSE_gp_sklearn}\")"
   ]
  },
  {
   "cell_type": "markdown",
   "id": "6356c280",
   "metadata": {},
   "source": [
    "One can observe that we get pretty similar result to what sklearn provides with the same kernel (exponential quadratic kernel), and that the performance is also close (and quite better) than the simple linear regression."
   ]
  },
  {
   "cell_type": "code",
   "execution_count": null,
   "id": "afce482d",
   "metadata": {},
   "outputs": [],
   "source": []
  }
 ],
 "metadata": {
  "kernelspec": {
   "display_name": "main_env",
   "language": "python",
   "name": "main_env"
  },
  "language_info": {
   "codemirror_mode": {
    "name": "ipython",
    "version": 3
   },
   "file_extension": ".py",
   "mimetype": "text/x-python",
   "name": "python",
   "nbconvert_exporter": "python",
   "pygments_lexer": "ipython3",
   "version": "3.9.0"
  }
 },
 "nbformat": 4,
 "nbformat_minor": 5
}
